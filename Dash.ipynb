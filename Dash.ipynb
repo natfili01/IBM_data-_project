{
 "cells": [
  {
   "cell_type": "code",
   "execution_count": 2,
   "id": "cfa8ce61-e448-45c6-a69f-caf38ec66383",
   "metadata": {
    "tags": []
   },
   "outputs": [
    {
     "name": "stdout",
     "output_type": "stream",
     "text": [
      "Defaulting to user installation because normal site-packages is not writeable\n",
      "Requirement already satisfied: jupyter-dash in c:\\users\\ajuli\\appdata\\roaming\\python\\python311\\site-packages (0.4.2)\n",
      "Requirement already satisfied: dash in c:\\users\\ajuli\\appdata\\roaming\\python\\python311\\site-packages (from jupyter-dash) (2.14.1)\n",
      "Requirement already satisfied: requests in c:\\programdata\\anaconda3\\lib\\site-packages (from jupyter-dash) (2.31.0)\n",
      "Requirement already satisfied: flask in c:\\programdata\\anaconda3\\lib\\site-packages (from jupyter-dash) (2.2.2)\n",
      "Requirement already satisfied: retrying in c:\\users\\ajuli\\appdata\\roaming\\python\\python311\\site-packages (from jupyter-dash) (1.3.4)\n",
      "Requirement already satisfied: ipython in c:\\users\\ajuli\\appdata\\roaming\\python\\python311\\site-packages (from jupyter-dash) (8.21.0)\n",
      "Requirement already satisfied: ipykernel in c:\\users\\ajuli\\appdata\\roaming\\python\\python311\\site-packages (from jupyter-dash) (6.29.2)\n",
      "Requirement already satisfied: ansi2html in c:\\users\\ajuli\\appdata\\roaming\\python\\python311\\site-packages (from jupyter-dash) (1.8.0)\n",
      "Requirement already satisfied: nest-asyncio in c:\\users\\ajuli\\appdata\\roaming\\python\\python311\\site-packages (from jupyter-dash) (1.6.0)\n",
      "Requirement already satisfied: Werkzeug<3.1 in c:\\programdata\\anaconda3\\lib\\site-packages (from dash->jupyter-dash) (2.2.3)\n",
      "Requirement already satisfied: plotly>=5.0.0 in c:\\programdata\\anaconda3\\lib\\site-packages (from dash->jupyter-dash) (5.9.0)\n",
      "Requirement already satisfied: dash-html-components==2.0.0 in c:\\users\\ajuli\\appdata\\roaming\\python\\python311\\site-packages (from dash->jupyter-dash) (2.0.0)\n",
      "Requirement already satisfied: dash-core-components==2.0.0 in c:\\users\\ajuli\\appdata\\roaming\\python\\python311\\site-packages (from dash->jupyter-dash) (2.0.0)\n",
      "Requirement already satisfied: dash-table==5.0.0 in c:\\users\\ajuli\\appdata\\roaming\\python\\python311\\site-packages (from dash->jupyter-dash) (5.0.0)\n",
      "Requirement already satisfied: typing-extensions>=4.1.1 in c:\\programdata\\anaconda3\\lib\\site-packages (from dash->jupyter-dash) (4.7.1)\n",
      "Requirement already satisfied: setuptools in c:\\programdata\\anaconda3\\lib\\site-packages (from dash->jupyter-dash) (68.0.0)\n",
      "Requirement already satisfied: importlib-metadata in c:\\programdata\\anaconda3\\lib\\site-packages (from dash->jupyter-dash) (6.0.0)\n",
      "Requirement already satisfied: Jinja2>=3.0 in c:\\programdata\\anaconda3\\lib\\site-packages (from flask->jupyter-dash) (3.1.2)\n",
      "Requirement already satisfied: itsdangerous>=2.0 in c:\\programdata\\anaconda3\\lib\\site-packages (from flask->jupyter-dash) (2.0.1)\n",
      "Requirement already satisfied: click>=8.0 in c:\\programdata\\anaconda3\\lib\\site-packages (from flask->jupyter-dash) (8.0.4)\n",
      "Requirement already satisfied: comm>=0.1.1 in c:\\users\\ajuli\\appdata\\roaming\\python\\python311\\site-packages (from ipykernel->jupyter-dash) (0.2.1)\n",
      "Requirement already satisfied: debugpy>=1.6.5 in c:\\users\\ajuli\\appdata\\roaming\\python\\python311\\site-packages (from ipykernel->jupyter-dash) (1.8.1)\n",
      "Requirement already satisfied: jupyter-client>=6.1.12 in c:\\users\\ajuli\\appdata\\roaming\\python\\python311\\site-packages (from ipykernel->jupyter-dash) (8.6.0)\n",
      "Requirement already satisfied: jupyter-core!=5.0.*,>=4.12 in c:\\users\\ajuli\\appdata\\roaming\\python\\python311\\site-packages (from ipykernel->jupyter-dash) (5.7.1)\n",
      "Requirement already satisfied: matplotlib-inline>=0.1 in c:\\users\\ajuli\\appdata\\roaming\\python\\python311\\site-packages (from ipykernel->jupyter-dash) (0.1.6)\n",
      "Requirement already satisfied: packaging in c:\\users\\ajuli\\appdata\\roaming\\python\\python311\\site-packages (from ipykernel->jupyter-dash) (23.2)\n",
      "Requirement already satisfied: psutil in c:\\users\\ajuli\\appdata\\roaming\\python\\python311\\site-packages (from ipykernel->jupyter-dash) (5.9.8)\n",
      "Requirement already satisfied: pyzmq>=24 in c:\\users\\ajuli\\appdata\\roaming\\python\\python311\\site-packages (from ipykernel->jupyter-dash) (25.1.2)\n",
      "Requirement already satisfied: tornado>=6.1 in c:\\users\\ajuli\\appdata\\roaming\\python\\python311\\site-packages (from ipykernel->jupyter-dash) (6.4)\n",
      "Requirement already satisfied: traitlets>=5.4.0 in c:\\users\\ajuli\\appdata\\roaming\\python\\python311\\site-packages (from ipykernel->jupyter-dash) (5.14.1)\n",
      "Requirement already satisfied: decorator in c:\\users\\ajuli\\appdata\\roaming\\python\\python311\\site-packages (from ipython->jupyter-dash) (5.1.1)\n",
      "Requirement already satisfied: jedi>=0.16 in c:\\users\\ajuli\\appdata\\roaming\\python\\python311\\site-packages (from ipython->jupyter-dash) (0.19.1)\n",
      "Requirement already satisfied: prompt-toolkit<3.1.0,>=3.0.41 in c:\\users\\ajuli\\appdata\\roaming\\python\\python311\\site-packages (from ipython->jupyter-dash) (3.0.43)\n",
      "Requirement already satisfied: pygments>=2.4.0 in c:\\users\\ajuli\\appdata\\roaming\\python\\python311\\site-packages (from ipython->jupyter-dash) (2.17.2)\n",
      "Requirement already satisfied: stack-data in c:\\users\\ajuli\\appdata\\roaming\\python\\python311\\site-packages (from ipython->jupyter-dash) (0.6.3)\n",
      "Requirement already satisfied: colorama in c:\\users\\ajuli\\appdata\\roaming\\python\\python311\\site-packages (from ipython->jupyter-dash) (0.4.6)\n",
      "Requirement already satisfied: charset-normalizer<4,>=2 in c:\\programdata\\anaconda3\\lib\\site-packages (from requests->jupyter-dash) (2.0.4)\n",
      "Requirement already satisfied: idna<4,>=2.5 in c:\\programdata\\anaconda3\\lib\\site-packages (from requests->jupyter-dash) (3.4)\n",
      "Requirement already satisfied: urllib3<3,>=1.21.1 in c:\\programdata\\anaconda3\\lib\\site-packages (from requests->jupyter-dash) (1.26.16)\n",
      "Requirement already satisfied: certifi>=2017.4.17 in c:\\programdata\\anaconda3\\lib\\site-packages (from requests->jupyter-dash) (2023.7.22)\n",
      "Requirement already satisfied: six>=1.7.0 in c:\\users\\ajuli\\appdata\\roaming\\python\\python311\\site-packages (from retrying->jupyter-dash) (1.16.0)\n",
      "Requirement already satisfied: parso<0.9.0,>=0.8.3 in c:\\users\\ajuli\\appdata\\roaming\\python\\python311\\site-packages (from jedi>=0.16->ipython->jupyter-dash) (0.8.3)\n",
      "Requirement already satisfied: MarkupSafe>=2.0 in c:\\programdata\\anaconda3\\lib\\site-packages (from Jinja2>=3.0->flask->jupyter-dash) (2.1.1)\n",
      "Requirement already satisfied: python-dateutil>=2.8.2 in c:\\users\\ajuli\\appdata\\roaming\\python\\python311\\site-packages (from jupyter-client>=6.1.12->ipykernel->jupyter-dash) (2.8.2)\n",
      "Requirement already satisfied: platformdirs>=2.5 in c:\\users\\ajuli\\appdata\\roaming\\python\\python311\\site-packages (from jupyter-core!=5.0.*,>=4.12->ipykernel->jupyter-dash) (4.2.0)\n",
      "Requirement already satisfied: pywin32>=300 in c:\\users\\ajuli\\appdata\\roaming\\python\\python311\\site-packages (from jupyter-core!=5.0.*,>=4.12->ipykernel->jupyter-dash) (306)\n",
      "Requirement already satisfied: tenacity>=6.2.0 in c:\\programdata\\anaconda3\\lib\\site-packages (from plotly>=5.0.0->dash->jupyter-dash) (8.2.2)\n",
      "Requirement already satisfied: wcwidth in c:\\users\\ajuli\\appdata\\roaming\\python\\python311\\site-packages (from prompt-toolkit<3.1.0,>=3.0.41->ipython->jupyter-dash) (0.2.13)\n",
      "Requirement already satisfied: zipp>=0.5 in c:\\programdata\\anaconda3\\lib\\site-packages (from importlib-metadata->dash->jupyter-dash) (3.11.0)\n",
      "Requirement already satisfied: executing>=1.2.0 in c:\\users\\ajuli\\appdata\\roaming\\python\\python311\\site-packages (from stack-data->ipython->jupyter-dash) (2.0.1)\n",
      "Requirement already satisfied: asttokens>=2.1.0 in c:\\users\\ajuli\\appdata\\roaming\\python\\python311\\site-packages (from stack-data->ipython->jupyter-dash) (2.4.1)\n",
      "Requirement already satisfied: pure-eval in c:\\users\\ajuli\\appdata\\roaming\\python\\python311\\site-packages (from stack-data->ipython->jupyter-dash) (0.2.2)\n"
     ]
    }
   ],
   "source": [
    "!pip install jupyter-dash\n",
    "\n"
   ]
  },
  {
   "cell_type": "code",
   "execution_count": 4,
   "id": "92a0a560-3f9a-45aa-900b-aa1a8fd0873e",
   "metadata": {
    "tags": []
   },
   "outputs": [
    {
     "data": {
      "text/html": [
       "\n",
       "        <iframe\n",
       "            width=\"100%\"\n",
       "            height=\"650\"\n",
       "            src=\"http://127.0.0.1:8051/\"\n",
       "            frameborder=\"0\"\n",
       "            allowfullscreen\n",
       "            \n",
       "        ></iframe>\n",
       "        "
      ],
      "text/plain": [
       "<IPython.lib.display.IFrame at 0x1b10885c050>"
      ]
     },
     "metadata": {},
     "output_type": "display_data"
    },
    {
     "data": {
      "text/html": [
       "\n",
       "        <iframe\n",
       "            width=\"100%\"\n",
       "            height=\"650\"\n",
       "            src=\"http://127.0.0.1:8051/\"\n",
       "            frameborder=\"0\"\n",
       "            allowfullscreen\n",
       "            \n",
       "        ></iframe>\n",
       "        "
      ],
      "text/plain": [
       "<IPython.lib.display.IFrame at 0x1b1088a0b90>"
      ]
     },
     "metadata": {},
     "output_type": "display_data"
    }
   ],
   "source": [
    "# Run the app in JupyterLab on a different port\n",
    "app.run_server(port=8051, mode='inline')\n"
   ]
  },
  {
   "cell_type": "code",
   "execution_count": null,
   "id": "7d7046f1-04ad-441f-bfcd-3697f3d1d46b",
   "metadata": {},
   "outputs": [],
   "source": [
    "# Import required libraries\n",
    "import pandas as pd\n",
    "import plotly.express as px\n",
    "from dash import Dash, html, dcc, Input, Output\n",
    "\n",
    "# Load SpaceX Launch dataset\n",
    "spacex_df = pd.read_csv(\"spacex_launch_dash.csv\")\n",
    "\n",
    "# Initialize the Dash app\n",
    "app = Dash(__name__)\n",
    "\n",
    "# Define the layout of the app\n",
    "app.layout = html.Div([\n",
    "    html.H1(\"SpaceX Launch Records Dashboard\"),\n",
    "    dcc.Dropdown(id='site-dropdown',\n",
    "                 options=[\n",
    "                     {'label': 'All Sites', 'value': 'ALL'}] +\n",
    "                     [{'label': site, 'value': site} for site in spacex_df['Launch Site'].unique()],\n",
    "                 value='ALL',\n",
    "                 placeholder=\"Select a Launch Site\",\n",
    "                 searchable=True),\n",
    "    html.Br(),\n",
    "\n",
    "    html.Div(dcc.Graph(id='success-pie-chart')),\n",
    "    html.Br(),\n",
    "\n",
    "    dcc.RangeSlider(id='payload-slider',\n",
    "                    min=0, \n",
    "                    max=10000, \n",
    "                    step=1000,\n",
    "                    marks={i: str(i) for i in range(0, 10001, 2000)},\n",
    "                    value=[min(spacex_df['Payload Mass (kg)']), max(spacex_df['Payload Mass (kg)'])]),\n",
    "    html.Div(dcc.Graph(id='success-payload-scatter-chart'))\n",
    "])\n",
    "\n",
    "# Define callback to update pie-chart based on selected site\n",
    "@app.callback(\n",
    "    Output('success-pie-chart', 'figure'),\n",
    "    Input('site-dropdown', 'value'))\n",
    "def update_pie_chart(selected_site):\n",
    "    if selected_site == 'ALL':\n",
    "        fig = px.pie(spacex_df, values='class', names='Launch Site', title='Total Success Launches by Site')\n",
    "    else:\n",
    "        filtered_df = spacex_df[spacex_df['Launch Site'] == selected_site]\n",
    "        fig = px.pie(filtered_df, names='class', title=f\"Launch Successes for site {selected_site}\")\n",
    "    return fig\n",
    "\n",
    "# Define callback to update scatter-chart based on selected site and payload range\n",
    "@app.callback(\n",
    "    Output('success-payload-scatter-chart', 'figure'),\n",
    "    [Input('site-dropdown', 'value'),\n",
    "     Input('payload-slider', 'value')])\n",
    "def update_scatter_chart(selected_site, payload_range):\n",
    "    filtered_df = spacex_df[(spacex_df['Payload Mass (kg)'] >= payload_range[0]) &\n",
    "                            (spacex_df['Payload Mass (kg)'] <= payload_range[1])]\n",
    "    if selected_site != 'ALL':\n",
    "        filtered_df = filtered_df[filtered_df['Launch Site'] == selected_site]\n",
    "    fig = px.scatter(filtered_df, x='Payload Mass (kg)', y='class', color=\"Booster Version Category\",\n",
    "                     title=\"Correlation between Payload and Success for selected site(s)\")\n",
    "    return fig\n",
    "\n",
    "# Run the app in JupyterLab on a different port\n",
    "app.run_server(port=8051, mode='inline')\n"
   ]
  }
 ],
 "metadata": {
  "kernelspec": {
   "display_name": "Python 3 (ipykernel)",
   "language": "python",
   "name": "python3"
  },
  "language_info": {
   "codemirror_mode": {
    "name": "ipython",
    "version": 3
   },
   "file_extension": ".py",
   "mimetype": "text/x-python",
   "name": "python",
   "nbconvert_exporter": "python",
   "pygments_lexer": "ipython3",
   "version": "3.11.5"
  }
 },
 "nbformat": 4,
 "nbformat_minor": 5
}
